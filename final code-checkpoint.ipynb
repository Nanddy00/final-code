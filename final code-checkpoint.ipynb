{
 "cells": [
  {
   "cell_type": "code",
   "execution_count": 2,
   "id": "4e6ecad7",
   "metadata": {},
   "outputs": [],
   "source": [
    "import cv2\n",
    "import pytesseract\n",
    "from openpyxl import load_workbook, Workbook\n",
    "import re\n",
    "# Load Tesseract and set configurations\n",
    "pytesseract.pytesseract.tesseract_cmd = r\"C:\\\\Program Files\\\\Tesseract-OCR\\\\tesseract.exe\"\n",
    "custom_config = r'--oem 3 --psm 6'\n",
    "# Function to extract text from image using pytesseract\n",
    "def extract_text_from_image(image_path):\n",
    "    img = cv2.imread(image_path)\n",
    "    gray = cv2.cvtColor(img, cv2.COLOR_BGR2GRAY)\n",
    "    text = pytesseract.image_to_string(gray, config=custom_config)\n",
    "    return text\n",
    "# Function to extract certificate details from text\n",
    "def extract_certificate_details(text):\n",
    "    name_pattern = re.compile(r'Name (.+?)\\n')\n",
    "    name_match = name_pattern.search(text)\n",
    "    name_cert = name_match.group(1) if name_match else None\n",
    "    ins_pattern = re.compile(r'Institution (.+?)\\n')\n",
    "    ins_match = ins_pattern.search(text)\n",
    "    ins_cert = ins_match.group(1) if ins_match else None\n",
    "    unit_pattern = re.compile(r'by (.+?)\\n')\n",
    "    unit_match = unit_pattern.search(text)\n",
    "    unit_cert = unit_match.group(1) if unit_match else None\n",
    "    pl_pattern = re.compile(r'Place : (\\w+)')\n",
    "    pl_match = pl_pattern.search(text)\n",
    "    pl_cert = pl_match.group(1) if pl_match else None\n",
    "    dt_pattern = re.compile(r'Date: (\\d{1,2} \\w+ \\d{4})')\n",
    "    dt_match = dt_pattern.search(text)\n",
    "    dt_cert = dt_match.group(1) if dt_match else None\n",
    "    rank_pattern = re.compile(r'Rank, (.+?)\\n')\n",
    "    rank_match = rank_pattern.search(text)\n",
    "    rank_cert = rank_match.group(1) if rank_match else None\n",
    "    return name_cert, ins_cert, unit_cert, pl_cert, dt_cert, rank_cert\n",
    "# Load the existing workbook or create a new one if it doesn't exist\n",
    "try:\n",
    "    wb = load_workbook('Nandhu2.xlsx')\n",
    "except FileNotFoundError:\n",
    "    wb = Workbook()\n",
    "    ws = wb.active\n",
    "    ws.append(['Name', 'Institution', 'By', 'Place', 'Date' ,'Rank'])\n",
    "ws = wb.active\n",
    "# Process multiple images\n",
    "image_paths = [\n",
    "    'C:\\\\Users\\\\Lenovo\\\\Downloads\\\\nandyncc_page-0001.jpg',\n",
    "    'C:\\\\Users\\\\Lenovo\\\\Downloads\\\\mervin2.jpg',\n",
    "    'C:\\\\Users\\\\Lenovo\\\\Downloads\\\\melvin3.jpg'# Add more image paths as needed\n",
    "]\n",
    "for image_path in image_paths:\n",
    "    text = extract_text_from_image(image_path)\n",
    "    name_cert, ins_cert, unit_cert, pl_cert, dt_cert, rank_cert = extract_certificate_details(text)\n",
    "    ws.append([name_cert, ins_cert, unit_cert, pl_cert, dt_cert, rank_cert])\n",
    "# Save the workbook\n",
    "wb.save('Nandhu2.xlsx')  "
   ]
  },
  {
   "cell_type": "code",
   "execution_count": null,
   "id": "4adee902",
   "metadata": {},
   "outputs": [],
   "source": []
  }
 ],
 "metadata": {
  "kernelspec": {
   "display_name": "Python 3 (ipykernel)",
   "language": "python",
   "name": "python3"
  },
  "language_info": {
   "codemirror_mode": {
    "name": "ipython",
    "version": 3
   },
   "file_extension": ".py",
   "mimetype": "text/x-python",
   "name": "python",
   "nbconvert_exporter": "python",
   "pygments_lexer": "ipython3",
   "version": "3.11.5"
  }
 },
 "nbformat": 4,
 "nbformat_minor": 5
}
